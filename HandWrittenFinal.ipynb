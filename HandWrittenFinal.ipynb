{
  "cells": [
    {
      "cell_type": "markdown",
      "metadata": {
        "id": "view-in-github",
        "colab_type": "text"
      },
      "source": [
        "<a href=\"https://colab.research.google.com/github/negia7265/Machine_Learning/blob/main/HandWrittenFinal.ipynb\" target=\"_parent\"><img src=\"https://colab.research.google.com/assets/colab-badge.svg\" alt=\"Open In Colab\"/></a>"
      ]
    },
    {
      "cell_type": "code",
      "execution_count": null,
      "metadata": {
        "id": "Uhix5olSuIhA"
      },
      "outputs": [],
      "source": [
        "import numpy as np\n",
        "import tensorflow as tf\n",
        "import cv2\n",
        "import os\n",
        "from tensorflow.keras import Sequential\n",
        "from tensorflow.keras.layers import Activation, Dense,Flatten\n",
        "from tensorflow.keras.utils import to_categorical\n",
        "import matplotlib.pyplot as plt"
      ]
    },
    {
      "cell_type": "code",
      "execution_count": null,
      "metadata": {
        "id": "_eY776G0uOW6"
      },
      "outputs": [],
      "source": [
        "mnist=tf.keras.datasets.mnist\n",
        "(x_train,y_train),(x_test,y_test)=mnist.load_data()"
      ]
    },
    {
      "cell_type": "code",
      "execution_count": null,
      "metadata": {
        "id": "k9YVKmcjuTLE"
      },
      "outputs": [],
      "source": [
        "x_train=tf.keras.utils.normalize(x_train,axis=1)\n",
        "x_test=tf.keras.utils.normalize(x_test,axis=1)\n",
        "y_train = to_categorical(y_train, num_classes=10)\n",
        "y_test = to_categorical(y_test, num_classes=10)"
      ]
    },
    {
      "cell_type": "code",
      "execution_count": null,
      "metadata": {
        "id": "AACQgWtsuWm7"
      },
      "outputs": [],
      "source": [
        "\n",
        "model=Sequential([\n",
        "    Flatten(input_shape=(28,28)),\n",
        "    Dense(units=128,activation='relu'),\n",
        "    Dense(units=128,activation='relu'),\n",
        "    Dense(units=128,activation='relu'),\n",
        "    Dense(units=128,activation='relu'),\n",
        "    Dense(units=10,activation='softmax'),\n",
        "   ])"
      ]
    },
    {
      "cell_type": "code",
      "execution_count": null,
      "metadata": {
        "id": "WwnHCfxjucYl"
      },
      "outputs": [],
      "source": [
        "model.compile(optimizer='adam',loss='categorical_crossentropy',metrics=['accuracy'])"
      ]
    },
    {
      "cell_type": "code",
      "execution_count": null,
      "metadata": {
        "id": "5MA5RLz7ufLf"
      },
      "outputs": [],
      "source": [
        "model.fit(x_train,y_train,epochs=5)"
      ]
    },
    {
      "cell_type": "code",
      "execution_count": null,
      "metadata": {
        "id": "r9Ti8n8HuhkH"
      },
      "outputs": [],
      "source": [
        "loss,acurracy=model.evaluate(x_test,y_test)\n",
        "print(loss)\n",
        "print(acurracy)"
      ]
    },
    {
      "cell_type": "code",
      "execution_count": null,
      "metadata": {
        "id": "PMMl3Xzgux51"
      },
      "outputs": [],
      "source": [
        "img=cv2.imread(\"hand5.png\")\n",
        "gray_img = cv2.cvtColor(img, cv2.COLOR_BGR2GRAY)\n",
        "\n",
        "# Resize the image to (28, 28) if necessary\n",
        "if gray_img.shape != (28, 28):\n",
        "    gray_img = cv2.resize(gray_img, (28, 28))\n",
        "gray_img = gray_img[np.newaxis, :, :]\n",
        "gray_img=gray_img/255;\n",
        "converted_array = np.where(gray_img == 1, 0, np.where(gray_img == 0, 1, gray_img))\n",
        "# inverted_img = cv2.bitwise_not(gray_img)\n",
        "plt.imshow(converted_array[0], cmap='gray')"
      ]
    },
    {
      "cell_type": "code",
      "execution_count": null,
      "metadata": {
        "colab": {
          "base_uri": "https://localhost:8080/"
        },
        "id": "ZHyJWqZBzyBx",
        "outputId": "43316b33-18cd-452f-fcda-6b46bade139a"
      },
      "outputs": [
        {
          "output_type": "stream",
          "name": "stdout",
          "text": [
            "1/1 [==============================] - 0s 22ms/step\n"
          ]
        }
      ],
      "source": [
        "\n",
        "prediction=model.predict(converted_array)"
      ]
    },
    {
      "cell_type": "code",
      "execution_count": null,
      "metadata": {
        "id": "IGjpszax1FEe",
        "colab": {
          "base_uri": "https://localhost:8080/"
        },
        "outputId": "e32734e8-390e-4c86-ec8d-f96c9e7d043c"
      },
      "outputs": [
        {
          "output_type": "stream",
          "name": "stdout",
          "text": [
            "3\n"
          ]
        }
      ],
      "source": [
        "ans=np.argmax(prediction[0])\n",
        "print(ans)"
      ]
    },
    {
      "cell_type": "code",
      "source": [
        "# plt.imshow(x_test[9], cmap='gray')\n",
        "plt.imshow(inverted_img[0], cmap='gray')\n",
        "plt.title(\"Handwritten Digit\")\n",
        "plt.axis('off')\n",
        "plt.show()"
      ],
      "metadata": {
        "colab": {
          "base_uri": "https://localhost:8080/",
          "height": 428
        },
        "id": "Yi_gnCdRajg-",
        "outputId": "1b0e8ead-d5ab-4c42-a543-f68599a3badd"
      },
      "execution_count": null,
      "outputs": [
        {
          "output_type": "display_data",
          "data": {
            "text/plain": [
              "<Figure size 640x480 with 1 Axes>"
            ],
            "image/png": "[encoded data removed]"
          },
          "metadata": {}
        }
      ]
    }
  ],
  "metadata": {
    "colab": {
      "provenance": [],
      "authorship_tag": "ABX9TyNqNfMkc90nAdp1PPNwTVhD",
      "include_colab_link": true
    },
    "kernelspec": {
      "display_name": "Python 3",
      "name": "python3"
    },
    "language_info": {
      "name": "python"
    }
  },
  "nbformat": 4,
  "nbformat_minor": 0
}