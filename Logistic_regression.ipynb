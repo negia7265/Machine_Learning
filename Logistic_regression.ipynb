{
  "nbformat": 4,
  "nbformat_minor": 0,
  "metadata": {
    "colab": {
      "provenance": [],
      "authorship_tag": "ABX9TyMTLEtd5rtY3pP+IL09aHHf",
      "include_colab_link": true
    },
    "kernelspec": {
      "name": "python3",
      "display_name": "Python 3"
    },
    "language_info": {
      "name": "python"
    }
  },
  "cells": [
    {
      "cell_type": "markdown",
      "metadata": {
        "id": "view-in-github",
        "colab_type": "text"
      },
      "source": [
        "<a href=\"https://colab.research.google.com/github/negia7265/Machine_Learning/blob/main/Logistic_regression.ipynb\" target=\"_parent\"><img src=\"https://colab.research.google.com/assets/colab-badge.svg\" alt=\"Open In Colab\"/></a>"
      ]
    },
    {
      "cell_type": "code",
      "execution_count": 1,
      "metadata": {
        "id": "9rTtuwwTK7YZ"
      },
      "outputs": [],
      "source": [
        "import numpy as np\n",
        "import pandas as pd\n",
        "import matplotlib.pyplot as plt\n",
        "from sklearn.linear_model import LogisticRegression\n",
        "from sklearn.model_selection import train_test_split\n",
        "from sklearn.preprocessing import StandardScaler\n"
      ]
    },
    {
      "cell_type": "code",
      "source": [
        "scaler = StandardScaler()\n",
        "data = pd.read_csv('heart.csv')\n",
        "X=data.drop(columns=['target'])\n",
        "y=data['target']\n",
        "X_scale=scaler.fit_transform(X)\n",
        "X_train, X_test, y_train, y_test = train_test_split(X_scale, y, test_size=0.3, random_state=42)\n",
        "model = LogisticRegression()\n",
        "model.fit(X_train, y_train)\n",
        "y_pred=model.predict(X_test)\n",
        "age=X_test[:, 1]\n",
        "chol=X_test[:,4]\n"
      ],
      "metadata": {
        "id": "9iKmSGRkLIOd"
      },
      "execution_count": 26,
      "outputs": []
    },
    {
      "cell_type": "code",
      "source": [
        "colors = ['blue' if value == 0 else 'red' for value in y_pred]\n",
        "len(colors)"
      ],
      "metadata": {
        "colab": {
          "base_uri": "https://localhost:8080/"
        },
        "id": "rfGAVVb0_b4d",
        "outputId": "2b378156-1ee5-4432-84a8-299f106f5e8e"
      },
      "execution_count": 29,
      "outputs": [
        {
          "output_type": "execute_result",
          "data": {
            "text/plain": [
              "91"
            ]
          },
          "metadata": {},
          "execution_count": 29
        }
      ]
    },
    {
      "cell_type": "code",
      "source": [
        "plt.scatter(age,chol, c=colors, marker='o', alpha=0.8)\n",
        "plt.xlabel('Age')\n",
        "plt.ylabel('Cholestrol')\n",
        "plt.show()"
      ],
      "metadata": {
        "id": "dl83-fRSoKee"
      },
      "execution_count": null,
      "outputs": []
    },
    {
      "cell_type": "code",
      "source": [
        "\n",
        "\n",
        "# Compare the two arrays element-wise and count unequal elements\n",
        "unequal_elements = np.count_nonzero(y_pred != y_test)\n",
        "\n",
        "# Print the number of unequal elements\n",
        "print(f'Number of unequal elements: {unequal_elements}')\n",
        "print(f'Number of predicted elements: {y_pred.size}')"
      ],
      "metadata": {
        "id": "R6cVJUUJGEZo",
        "colab": {
          "base_uri": "https://localhost:8080/"
        },
        "outputId": "ec2db87a-c28a-458f-fb8b-a636d43c8023"
      },
      "execution_count": 33,
      "outputs": [
        {
          "output_type": "stream",
          "name": "stdout",
          "text": [
            "Number of unequal elements: 17\n",
            "Number of predicted elements: 91\n"
          ]
        }
      ]
    },
    {
      "cell_type": "code",
      "source": [],
      "metadata": {
        "id": "MgcPNsRKgjiN"
      },
      "execution_count": null,
      "outputs": []
    }
  ]
}